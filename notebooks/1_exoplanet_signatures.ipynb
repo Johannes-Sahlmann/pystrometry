{
 "cells": [
  {
   "cell_type": "markdown",
   "metadata": {},
   "source": [
    "# Plot the astrometric signatures of known exoplanet host stars \n",
    "\n",
    "In this notebook we query two exoplanet catalogs and estimate the expected amplitude (semi-major axis) of the host star's Keplerian motion caused by the orbiting planet.\n",
    "\n",
    "Dependencies:\n",
    "    astropy, pandas, astroquery, pystrometry"
   ]
  },
  {
   "cell_type": "code",
   "execution_count": null,
   "metadata": {},
   "outputs": [],
   "source": [
    "import glob\n",
    "import os\n",
    "import pprint \n",
    "\n",
    "import astropy.constants as constants\n",
    "from astropy.table import Table, vstack\n",
    "import astropy.units as u\n",
    "from astroquery.nasa_exoplanet_archive import NasaExoplanetArchive\n",
    "from astroquery.exoplanet_orbit_database import ExoplanetOrbitDatabase\n",
    "from IPython.display import display\n",
    "import matplotlib as mp\n",
    "import matplotlib.pylab as pl\n",
    "import pandas as pd\n",
    "\n",
    "from pystrometry.pystrometry import semimajor_axis_barycentre_angular"
   ]
  },
  {
   "cell_type": "code",
   "execution_count": null,
   "metadata": {},
   "outputs": [],
   "source": [
    "LOCAL_PATH = os.path.dirname(os.getcwd())\n",
    "TEMPORARY_DIR = os.path.join(LOCAL_PATH, 'temp')\n",
    "if os.path.isdir(TEMPORARY_DIR) is False:\n",
    "    os.makedirs(TEMPORARY_DIR)\n",
    "print(LOCAL_PATH)"
   ]
  },
  {
   "cell_type": "code",
   "execution_count": null,
   "metadata": {},
   "outputs": [],
   "source": [
    "pp = pprint.PrettyPrinter(indent=4)     \n",
    "%matplotlib inline\n",
    "mp.rcParams['figure.figsize'] = (18, 9)\n",
    "mp.rcParams['font.size'] = 20\n",
    "mp.rcParams['ytick.direction'] = 'in'\n",
    "mp.rcParams['xtick.direction'] = 'in'"
   ]
  },
  {
   "cell_type": "code",
   "execution_count": null,
   "metadata": {},
   "outputs": [],
   "source": [
    "save_plot = True"
   ]
  },
  {
   "cell_type": "markdown",
   "metadata": {},
   "source": [
    "### Some useful functions\n",
    "\n",
    "https://exoplanetarchive.ipac.caltech.edu/docs/program_interfaces.html"
   ]
  },
  {
   "cell_type": "code",
   "execution_count": null,
   "metadata": {},
   "outputs": [],
   "source": [
    "def get_exoplanets(selected_table_name, overwrite=False):\n",
    "    \n",
    "    local_data_file_name = {'eod': 'exoplanet_orbit_database_table.ecsv',\n",
    "                           'nasa': 'nasa_exoplanet_archive_table.ecsv'}\n",
    "\n",
    "    eod_file = os.path.join(TEMPORARY_DIR, local_data_file_name[selected_table_name])\n",
    "\n",
    "    if not os.path.isfile(eod_file) or overwrite:\n",
    "        if selected_table_name == 'eod':\n",
    "            table = ExoplanetOrbitDatabase.get_table()\n",
    "        elif selected_table_name == 'nasa':\n",
    "            # https://exoplanetarchive.ipac.caltech.edu/docs/program_interfaces.html\n",
    "            table = NasaExoplanetArchive.query_criteria(table=\"exoplanets\", select=\"*\", cache=True)\n",
    "            #         table = NasaExoplanetArchive.query_criteria(table=\"cumulative\", select=\"*\", cache=True)\n",
    "            #         table_kepler = NasaExoplanetArchive.query_criteria(table=\"cumulative\", select=\"*\", cache=True)\n",
    "\n",
    "        table.write(eod_file, overwrite=True)\n",
    "\n",
    "    table = Table.read(eod_file)\n",
    "    return table\n",
    "\n",
    "\n",
    "parameter_mapping_all = {'eod': {'period': 'PER',\n",
    "                     'ecc': 'ECC',\n",
    "                     'm2': 'MASS',\n",
    "                     'omega': 'OM',\n",
    "                     'plx': 'PAR',\n",
    "                     'star_mass': 'MSTAR',\n",
    "                     'distance_pc': 'DIST'\n",
    "                     },\n",
    "                     'nasa':{'period': 'pl_orbper',         # https://exoplanetarchive.ipac.caltech.edu/docs/API_exoplanet_columns.html\n",
    "                             'm2': 'pl_bmassj',\n",
    "                             'plx': 'gaia_plx',\n",
    "                             'star_mass': 'st_mass',\n",
    "                             'distance_pc': 'st_dist'\n",
    "                             }}\n",
    "\n",
    "\n",
    "def set_astrometric_observables(table, selected_table_name):\n",
    "    \"\"\"Compute photocentre orbit size and other parameters.\"\"\"\n",
    "\n",
    "    parameter_mapping = parameter_mapping_all[selected_table_name]                     \n",
    "\n",
    "    planet_mass_mj = table[parameter_mapping['m2']]\n",
    "    parallax_mas = table[parameter_mapping['plx']]\n",
    "    period_day = table[parameter_mapping['period']]\n",
    "    star_mass_msun = table[parameter_mapping['star_mass']]\n",
    "\n",
    "    table['a_phot_mas'] = semimajor_axis_barycentre_angular(star_mass_msun, planet_mass_mj, period_day, parallax_mas)\n",
    "    table['period_year'] = (table[parameter_mapping['period']].to(u.year))\n",
    "    table['a_phot_muas'] = table['a_phot_mas']*1000\n",
    "\n",
    "    table['log10_distance_pc'] = np.log10(table[parameter_mapping['distance_pc']])\n",
    "    \n",
    "    return table\n",
    "\n",
    "def set_a_phot_mas(table, selected_table_name):\n",
    "    \"\"\"Compute photocentre orbit size (works on pandas dataframe).\"\"\"\n",
    "\n",
    "    parameter_mapping = parameter_mapping_all[selected_table_name]                     \n",
    "\n",
    "    planet_mass_mj = table[parameter_mapping['m2']]\n",
    "    parallax_mas = table[parameter_mapping['plx']]\n",
    "    period_day = table[parameter_mapping['period']]\n",
    "    star_mass_msun = table[parameter_mapping['star_mass']]\n",
    "\n",
    "    table['a_phot_mas'] = semimajor_axis_barycentre_angular(star_mass_msun, planet_mass_mj, period_day, parallax_mas)\n",
    "    table['a_phot_muas'] = table['a_phot_mas']*1000\n",
    "    \n",
    "    return table"
   ]
  },
  {
   "cell_type": "markdown",
   "metadata": {},
   "source": [
    "### Get table from NasaExoplanetArchive"
   ]
  },
  {
   "cell_type": "code",
   "execution_count": null,
   "metadata": {},
   "outputs": [],
   "source": [
    "selected_table_name = 'nasa'  \n",
    "table = get_exoplanets(selected_table_name) \n",
    "table = set_astrometric_observables(table, selected_table_name)"
   ]
  },
  {
   "cell_type": "markdown",
   "metadata": {},
   "source": [
    "### Get table from ExoplanetOrbitDatabase for KOIs"
   ]
  },
  {
   "cell_type": "code",
   "execution_count": null,
   "metadata": {},
   "outputs": [],
   "source": [
    "eod_table = get_exoplanets('eod')  \n",
    "eod_table = set_astrometric_observables(eod_table, 'eod')\n",
    "\n",
    "eod_df = eod_table.to_pandas()\n",
    "eod_df_koi = eod_df[eod_df['EANAME'].str.contains('Kepler').fillna(False)]"
   ]
  },
  {
   "cell_type": "markdown",
   "metadata": {},
   "source": [
    "## Solar system planets  at 10 pc     \n",
    "http://www.windows2universe.org/our_solar_system/planets_table.html"
   ]
  },
  {
   "cell_type": "code",
   "execution_count": null,
   "metadata": {},
   "outputs": [],
   "source": [
    "solar_system = pd.DataFrame()\n",
    "\n",
    "solar_system['period_year'] = [0.24 ,0.62, 1, 1.88, 11.86, 29.46, 84.01, 164.8]\n",
    "solar_system['period_day'] = solar_system['period_year'] * u.year.to(u.day)\n",
    "solar_system['planet_mass_mj'] = np.array([0.055,0.815, 1, 0.107, 318, 95, 15, 17]) * u.M_earth.to(u.M_jup)\n",
    "solar_system['distance_pc'] = 10\n",
    "solar_system['parallax_mas'] = 1e3/solar_system['distance_pc']\n",
    "solar_system['planet_name'] = ['Me','V','E','Ma','J','S','U','N']\n",
    "solar_system['star_mass_msun'] = 1\n",
    "\n",
    "solar_system['a_phot_mas'] = semimajor_axis_barycentre_angular(solar_system['star_mass_msun'], solar_system['planet_mass_mj'], solar_system['period_day'], solar_system['parallax_mas'])\n",
    "solar_system['a_phot_muas'] = solar_system['a_phot_mas']*1e3\n",
    "\n",
    "display(solar_system)"
   ]
  },
  {
   "cell_type": "markdown",
   "metadata": {},
   "source": [
    "## Individual systems (mostly Gaia-HIP accelerations)"
   ]
  },
  {
   "cell_type": "code",
   "execution_count": null,
   "metadata": {},
   "outputs": [],
   "source": [
    "individuals = pd.DataFrame()\n",
    "\n",
    "individuals['planet_name'] = ['HD 33632 Ab', 'Proxima c', 'HD 113337 c', 'HD 38529 c', 'pi Men b', 'beta Pic b', 'eps indi A b']\n",
    "individuals['ref'] = ['Currie+20', 'Kervella+20', 'Xuan+20', 'Xuan+20', 'De Rosa+20', 'Brandt+20', 'Feng+19']\n",
    "\n",
    "individuals['period_year'] = np.array([91* u.year.to(u.day), 1900, 3165, 2135, 2089.11, 8880, 45.2*u.year.to(u.day)])* u.day.to(u.year)\n",
    "individuals['period_day'] = individuals['period_year'] * u.year.to(u.day)\n",
    "individuals['planet_mass_mj'] = np.array([46, 12* u.M_earth.to(u.M_jup), 14, 18, 13.01, 9.8, 3.25]) \n",
    "individuals['distance_pc'] = [26.56, 1000./768.5, 1000./27.64, 1000./23.611, 1000/ 54.7052, 1000./50.58, 1000./274.8]\n",
    "individuals['parallax_mas'] = 1e3/individuals['distance_pc']\n",
    "individuals['star_mass_msun'] = [1.108, 0.122, 1.40, 1.36, 1.094, 1.83, 0.754]\n",
    "\n",
    "individuals['a_phot_mas'] = semimajor_axis_barycentre_angular(individuals['star_mass_msun'], individuals['planet_mass_mj'], individuals['period_day'], individuals['parallax_mas'])\n",
    "individuals['a_phot_muas'] = individuals['a_phot_mas']*1e3\n",
    "\n",
    "display(individuals)"
   ]
  },
  {
   "cell_type": "code",
   "execution_count": null,
   "metadata": {},
   "outputs": [],
   "source": [
    "print(individuals[['planet_name', 'ref']].to_csv(index=False, sep=';'))"
   ]
  },
  {
   "cell_type": "markdown",
   "metadata": {},
   "source": [
    "## Systems with measured photocentre orbits"
   ]
  },
  {
   "cell_type": "code",
   "execution_count": null,
   "metadata": {},
   "outputs": [],
   "source": [
    "df = table.to_pandas()\n",
    "\n",
    "# ups And c,d\n",
    "selected_systems = df[df['hip_name'].str.contains('HIP 7513').fillna(False)].iloc[[1,2]]\n",
    "selected_systems['pl_bmassj'] = [13.98, 10.25]\n",
    "selected_systems['ref'] = 'McArthur+10'\n",
    "\n",
    "#  HD 38529 c\n",
    "individual_system = df[df['pl_name'].str.contains('HD 38529 c').fillna(False)]\n",
    "individual_system['pl_bmassj'] = [17.6]\n",
    "individual_system['ref'] = 'Benedict+10'\n",
    "selected_systems = pd.concat([selected_systems, individual_system])\n",
    "\n",
    "#  HD 128311 b\n",
    "individual_system = df[df['pl_name'].str.contains('HD 128311 b').fillna(False)]\n",
    "individual_system['pl_bmassj'] = [3.789]\n",
    "individual_system['ref'] = 'McArthur+14'\n",
    "selected_systems = pd.concat([selected_systems, individual_system])\n",
    "\n",
    "#  HD 202206 c\n",
    "individual_system = df[df['pl_name'].str.contains('HD 202206 c').fillna(False)]\n",
    "individual_system['ref'] = 'Benedict+17'\n",
    "selected_systems = pd.concat([selected_systems, individual_system])\n",
    "\n",
    "#  eps Eri b (Mawet+17 ignores the HST astrometry)\n",
    "# individual_system = df[df['pl_name'].str.contains('eps Eri b').fillna(False)]\n",
    "# individual_system['pl_bmassj'] = [1.55]\n",
    "# individual_system['ref'] = 'Benedict+06'\n",
    "# selected_systems = pd.concat([selected_systems, individual_system])\n",
    "\n",
    "#  GJ 676A b\n",
    "individual_system = df[df['pl_name'].str.contains('GJ 676 A b').fillna(False)]\n",
    "individual_system['pl_bmassj'] = [6.7]\n",
    "individual_system['ref'] = 'Sahlmann+16'\n",
    "selected_systems = pd.concat([selected_systems, individual_system])\n",
    "\n",
    "selected_systems = set_a_phot_mas(selected_systems, 'nasa')\n",
    "\n",
    "individual_system = pd.DataFrame()\n",
    "individual_system['pl_name'] = ['TVLM 513–46546 b']\n",
    "individual_system['pl_bmassj'] = [0.38]\n",
    "individual_system['a_phot_mas'] = [0.128]\n",
    "individual_system['ref'] = ['Curiel+20']\n",
    "individual_system['period_year'] = [220./u.year.to(u.day)]\n",
    "individual_system['distance_pc'] = [1000./93.405]\n",
    "\n",
    "individual_system['a_phot_muas'] = individual_system['a_phot_mas']*1000\n",
    "individual_system['st_dist'] = individual_system['distance_pc']\n",
    "\n",
    "selected_systems = pd.concat([selected_systems, individual_system])\n",
    "display(selected_systems[['pl_name', 'period_year', 'pl_bmassj', 'a_phot_muas', 'ref', 'pl_def_refname']])"
   ]
  },
  {
   "cell_type": "code",
   "execution_count": null,
   "metadata": {},
   "outputs": [],
   "source": [
    "#  df[df['hip_name'].str.contains('HIP 85647').fillna(False)].iloc[0]"
   ]
  },
  {
   "cell_type": "code",
   "execution_count": null,
   "metadata": {},
   "outputs": [],
   "source": [
    "print(selected_systems[['pl_name', 'ref']].to_csv(index=False, sep=','))"
   ]
  },
  {
   "cell_type": "code",
   "execution_count": null,
   "metadata": {},
   "outputs": [],
   "source": [
    "# np.array(df.columns)"
   ]
  },
  {
   "cell_type": "markdown",
   "metadata": {},
   "source": [
    "## Generate figure"
   ]
  },
  {
   "cell_type": "code",
   "execution_count": null,
   "metadata": {},
   "outputs": [],
   "source": [
    "include_koi = True\n",
    "include_individuals = True\n",
    "include_orbits = True\n",
    "\n",
    "\n",
    "def annotate_df(row):  \n",
    "    #     https://stackoverflow.com/questions/15910019/annotate-data-points-while-plotting-from-pandas-dataframe\n",
    "    ax.annotate(row.planet_name, (row.period_year, row.a_phot_muas),\n",
    "                xytext=(10,-5), \n",
    "                textcoords='offset points',\n",
    "                size=18, \n",
    "                color='darkslategrey')\n",
    "    \n",
    "\n",
    "x = 'period_year' \n",
    "y = 'a_phot_muas'\n",
    "\n",
    "if y == 'a_phot_muas':\n",
    "    factor = 1000\n",
    "\n",
    "colour_by = 'distance_pc'\n",
    "norm = mp.colors.LogNorm()\n",
    "colormap='viridis'\n",
    "colormap='cubehelix'\n",
    "\n",
    "\n",
    "fig, ax = pl.subplots()\n",
    "df.plot(x, y, kind='scatter', logx=True, logy=True, c=parameter_mapping_all['nasa'][colour_by], colormap=colormap, s=30, alpha=0.9, norm=norm, ax=ax, zorder=1, label='Exoplanets')\n",
    "if include_koi:\n",
    "    eod_df_koi.plot(x, y, kind='scatter', logx=True, logy=True, c=parameter_mapping_all['eod'][colour_by], colormap=colormap, s=25, marker='s', alpha=0.9, zorder=-50, norm=norm, ax=ax, colorbar=False, label='KOIs')\n",
    "pl.ylim((1e-8*factor, 40*factor))\n",
    "pl.xlim((1e-3, 300))\n",
    "solar_system.plot(x, y, kind='scatter', logx=True, logy=True, s=200, c=colour_by, ax=ax, norm=norm, colormap=colormap, colorbar=False, marker='^', label='Solar system at 10pc', edgecolor='k')\n",
    "_ = solar_system.apply(annotate_df, axis=1)\n",
    "if include_orbits:\n",
    "    selected_systems.plot(x, y, kind='scatter', logx=True, logy=True, s=300, c=parameter_mapping_all['nasa'][colour_by], ax=ax, norm=norm, colormap=colormap, colorbar=False, label='Measured orbits',  marker='*', edgecolor='k') #,    \n",
    "if include_individuals:\n",
    "    individuals.plot(x, y, kind='scatter', logx=True, logy=True, s=200, c=colour_by, ax=ax, norm=norm, colormap=colormap, colorbar=False, label='Hip-Gaia systems',  marker='D', edgecolor='k') #,\n",
    "pl.xlabel('Orbital period (year)')\n",
    "pl.ylabel('Minimum semimajor axis (micro-arcsec)')\n",
    "ax.grid(ls='--', color='0.8')\n",
    "ax.set_zorder(-52)\n",
    "\n",
    "xticks = [0.001, 0.01, 0.1, 1, 10, 100] \n",
    "xtick_labels = np.array(['0.001', '0.01', '0.1', '1', '10', '100'])\n",
    "pl.xticks(xticks, xtick_labels)\n",
    "\n",
    "yticks = [1e-4, 1e-3, 1e-2, 1e-1, 1, 10, 100, 1000, 1e4] \n",
    "ytick_labels = np.array(yticks).astype(str)\n",
    "ytick_labels = np.array(['0.0001', '0.001', '0.01', '0.1', '1', '10', '100', '1000', '10000'])\n",
    "pl.yticks(yticks, ytick_labels)\n",
    "\n",
    "cax = fig.get_axes()[1]\n",
    "cax.set_ylabel('Distance (pc)')\n",
    "pl.legend(loc=2, framealpha=0.5)\n",
    "\n",
    "pl.text(0.68, 0.03, 'NasaExoplanetArchive & ExoplanetOrbitDatabase', horizontalalignment='left', verticalalignment='top',\n",
    "        transform=pl.gca().transAxes, fontsize=10)\n",
    "\n",
    "pl.title('Astrometric signatures of exoplanets')\n",
    "if save_plot:\n",
    "    figure_file_name = os.path.join(TEMPORARY_DIR, '{}_{}_{}_astrometry_signatures.png'.format(selected_table_name, include_individuals, include_orbits))\n",
    "    pl.savefig(figure_file_name, transparent=False, bbox_inches='tight', pad_inches=0.05)        \n",
    "display(figure_file_name)    "
   ]
  },
  {
   "cell_type": "code",
   "execution_count": null,
   "metadata": {},
   "outputs": [],
   "source": []
  }
 ],
 "metadata": {
  "kernelspec": {
   "display_name": "astrom",
   "language": "python",
   "name": "astrom"
  },
  "language_info": {
   "codemirror_mode": {
    "name": "ipython",
    "version": 3
   },
   "file_extension": ".py",
   "mimetype": "text/x-python",
   "name": "python",
   "nbconvert_exporter": "python",
   "pygments_lexer": "ipython3",
   "version": "3.7.8"
  }
 },
 "nbformat": 4,
 "nbformat_minor": 4
}
