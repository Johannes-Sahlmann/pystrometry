{
 "cells": [
  {
   "cell_type": "code",
   "execution_count": 1,
   "metadata": {},
   "outputs": [],
   "source": [
    "import glob\n",
    "import os\n",
    "import pprint \n",
    "# import pyyaml\n",
    "\n",
    "import astropy.units as u\n",
    "from IPython.display import display\n",
    "import matplotlib as mp\n",
    "import matplotlib.pylab as pl\n",
    "import pandas as pd\n",
    "\n",
    "import astropy.constants as constants\n",
    "\n",
    "from astroquery.nasa_exoplanet_archive import NasaExoplanetArchive\n",
    "import astropy.units as u\n",
    "from astropy.table import Table, vstack\n",
    "\n",
    "from pystrometry.pystrometry import pjGet_a_barycentre\n",
    "from astroquery.exoplanet_orbit_database import ExoplanetOrbitDatabase\n"
   ]
  },
  {
   "cell_type": "code",
   "execution_count": 2,
   "metadata": {},
   "outputs": [
    {
     "name": "stdout",
     "output_type": "stream",
     "text": [
      "/Users/jsahlmann/code/github/JohannesSahlmann/pystrometry\n"
     ]
    }
   ],
   "source": [
    "LOCAL_PATH = os.path.dirname(os.getcwd())\n",
    "TEMPORARY_DIR = os.path.join(LOCAL_PATH, 'temp')\n",
    "if os.path.isdir(TEMPORARY_DIR) is False:\n",
    "    os.makedirs(TEMPORARY_DIR)\n",
    "print(LOCAL_PATH)"
   ]
  },
  {
   "cell_type": "code",
   "execution_count": 3,
   "metadata": {},
   "outputs": [],
   "source": [
    "pp = pprint.PrettyPrinter(indent=4)     \n",
    "%matplotlib inline\n",
    "mp.rcParams['figure.figsize'] = (18, 9)\n",
    "mp.rcParams['font.size'] = 20\n",
    "mp.rcParams['ytick.direction'] = 'in'\n",
    "mp.rcParams['xtick.direction'] = 'in'"
   ]
  },
  {
   "cell_type": "code",
   "execution_count": 4,
   "metadata": {},
   "outputs": [],
   "source": [
    "# mp.rcParams"
   ]
  },
  {
   "cell_type": "code",
   "execution_count": 5,
   "metadata": {},
   "outputs": [],
   "source": [
    "# table"
   ]
  },
  {
   "cell_type": "code",
   "execution_count": 6,
   "metadata": {},
   "outputs": [],
   "source": [
    "save_plot = True"
   ]
  },
  {
   "cell_type": "code",
   "execution_count": 7,
   "metadata": {},
   "outputs": [
    {
     "ename": "TypeError",
     "evalue": "'float' object cannot be interpreted as an integer",
     "output_type": "error",
     "traceback": [
      "\u001b[0;31m---------------------------------------------------------------------------\u001b[0m",
      "\u001b[0;31mTypeError\u001b[0m                                 Traceback (most recent call last)",
      "\u001b[0;32m<ipython-input-7-53cebfb0240e>\u001b[0m in \u001b[0;36m<module>\u001b[0;34m\u001b[0m\n\u001b[1;32m      3\u001b[0m \u001b[0;34m\u001b[0m\u001b[0m\n\u001b[1;32m      4\u001b[0m \u001b[0morb\u001b[0m \u001b[0;34m=\u001b[0m \u001b[0mOrbitSystem\u001b[0m\u001b[0;34m(\u001b[0m\u001b[0;34m)\u001b[0m  \u001b[0;31m# default parameters\u001b[0m\u001b[0;34m\u001b[0m\u001b[0;34m\u001b[0m\u001b[0m\n\u001b[0;32m----> 5\u001b[0;31m \u001b[0morb\u001b[0m\u001b[0;34m.\u001b[0m\u001b[0mplot_orbits\u001b[0m\u001b[0;34m(\u001b[0m\u001b[0;34m)\u001b[0m\u001b[0;34m\u001b[0m\u001b[0;34m\u001b[0m\u001b[0m\n\u001b[0m",
      "\u001b[0;32m~/code/github/JohannesSahlmann/pystrometry/pystrometry/pystrometry.py\u001b[0m in \u001b[0;36mplot_orbits\u001b[0;34m(self, timestamps_curve_2D, timestamps_probe_2D, timestamps_probe_2D_label, delta_mag, N_orbit, N_curve, save_plot, plot_dir, new_figure, line_color, line_style, line_width, share_axes, show_orientation, arrow_offset_x, invert_xaxis, show_time, timeformat, name_seed, verbose)\u001b[0m\n\u001b[1;32m   1044\u001b[0m \u001b[0;34m\u001b[0m\u001b[0m\n\u001b[1;32m   1045\u001b[0m         \u001b[0;32mif\u001b[0m \u001b[0mtimestamps_curve_2D\u001b[0m \u001b[0;32mis\u001b[0m \u001b[0;32mNone\u001b[0m\u001b[0;34m:\u001b[0m\u001b[0;34m\u001b[0m\u001b[0;34m\u001b[0m\u001b[0m\n\u001b[0;32m-> 1046\u001b[0;31m             \u001b[0mtimestamps_curve_2D\u001b[0m \u001b[0;34m=\u001b[0m \u001b[0mnp\u001b[0m\u001b[0;34m.\u001b[0m\u001b[0mlinspace\u001b[0m\u001b[0;34m(\u001b[0m\u001b[0mself\u001b[0m\u001b[0;34m.\u001b[0m\u001b[0mTp_day\u001b[0m \u001b[0;34m-\u001b[0m \u001b[0mself\u001b[0m\u001b[0;34m.\u001b[0m\u001b[0mP_day\u001b[0m\u001b[0;34m,\u001b[0m \u001b[0mself\u001b[0m\u001b[0;34m.\u001b[0m\u001b[0mTp_day\u001b[0m \u001b[0;34m+\u001b[0m \u001b[0mN_orbit\u001b[0m \u001b[0;34m+\u001b[0m \u001b[0mself\u001b[0m\u001b[0;34m.\u001b[0m\u001b[0mP_day\u001b[0m\u001b[0;34m,\u001b[0m \u001b[0mN_curve\u001b[0m\u001b[0;34m)\u001b[0m\u001b[0;34m\u001b[0m\u001b[0;34m\u001b[0m\u001b[0m\n\u001b[0m\u001b[1;32m   1047\u001b[0m \u001b[0;34m\u001b[0m\u001b[0m\n\u001b[1;32m   1048\u001b[0m         \u001b[0mtimestamps_curve_1D\u001b[0m\u001b[0;34m,\u001b[0m \u001b[0mcpsi_curve\u001b[0m\u001b[0;34m,\u001b[0m \u001b[0mspsi_curve\u001b[0m\u001b[0;34m,\u001b[0m \u001b[0mxi_curve\u001b[0m\u001b[0;34m,\u001b[0m \u001b[0myi_curve\u001b[0m \u001b[0;34m=\u001b[0m \u001b[0mget_spsi_cpsi_for_2Dastrometry\u001b[0m\u001b[0;34m(\u001b[0m \u001b[0mtimestamps_curve_2D\u001b[0m \u001b[0;34m)\u001b[0m\u001b[0;34m\u001b[0m\u001b[0;34m\u001b[0m\u001b[0m\n",
      "\u001b[0;32m<__array_function__ internals>\u001b[0m in \u001b[0;36mlinspace\u001b[0;34m(*args, **kwargs)\u001b[0m\n",
      "\u001b[0;32m~/opt/anaconda3/envs/astrom/lib/python3.7/site-packages/numpy/core/function_base.py\u001b[0m in \u001b[0;36mlinspace\u001b[0;34m(start, stop, num, endpoint, retstep, dtype, axis)\u001b[0m\n\u001b[1;32m    111\u001b[0m \u001b[0;34m\u001b[0m\u001b[0m\n\u001b[1;32m    112\u001b[0m     \"\"\"\n\u001b[0;32m--> 113\u001b[0;31m     \u001b[0mnum\u001b[0m \u001b[0;34m=\u001b[0m \u001b[0moperator\u001b[0m\u001b[0;34m.\u001b[0m\u001b[0mindex\u001b[0m\u001b[0;34m(\u001b[0m\u001b[0mnum\u001b[0m\u001b[0;34m)\u001b[0m\u001b[0;34m\u001b[0m\u001b[0;34m\u001b[0m\u001b[0m\n\u001b[0m\u001b[1;32m    114\u001b[0m     \u001b[0;32mif\u001b[0m \u001b[0mnum\u001b[0m \u001b[0;34m<\u001b[0m \u001b[0;36m0\u001b[0m\u001b[0;34m:\u001b[0m\u001b[0;34m\u001b[0m\u001b[0;34m\u001b[0m\u001b[0m\n\u001b[1;32m    115\u001b[0m         \u001b[0;32mraise\u001b[0m \u001b[0mValueError\u001b[0m\u001b[0;34m(\u001b[0m\u001b[0;34m\"Number of samples, %s, must be non-negative.\"\u001b[0m \u001b[0;34m%\u001b[0m \u001b[0mnum\u001b[0m\u001b[0;34m)\u001b[0m\u001b[0;34m\u001b[0m\u001b[0;34m\u001b[0m\u001b[0m\n",
      "\u001b[0;31mTypeError\u001b[0m: 'float' object cannot be interpreted as an integer"
     ]
    }
   ],
   "source": [
    "from pystrometry.pystrometry import OrbitSystem \n",
    "from collections import OrderedDict\n",
    "\n",
    "orb = OrbitSystem()  # default parameters\n",
    "orb.plot_orbits() "
   ]
  },
  {
   "cell_type": "code",
   "execution_count": null,
   "metadata": {},
   "outputs": [],
   "source": []
  },
  {
   "cell_type": "code",
   "execution_count": null,
   "metadata": {},
   "outputs": [],
   "source": []
  },
  {
   "cell_type": "code",
   "execution_count": null,
   "metadata": {},
   "outputs": [],
   "source": []
  },
  {
   "cell_type": "code",
   "execution_count": null,
   "metadata": {},
   "outputs": [],
   "source": []
  },
  {
   "cell_type": "code",
   "execution_count": null,
   "metadata": {},
   "outputs": [],
   "source": [
    "df = table.to_pandas()"
   ]
  },
  {
   "cell_type": "code",
   "execution_count": null,
   "metadata": {},
   "outputs": [],
   "source": [
    "\n",
    "# if save_plot:\n",
    "#     figure_file_name = os.path.join(TEMPORARY_DIR, '{}_astrometry_signatures.png'.format(selected_table_name))\n",
    "#     pl.savefig(figure_file_name, transparent=False, bbox_inches='tight', pad_inches=0.05)        "
   ]
  }
 ],
 "metadata": {
  "kernelspec": {
   "display_name": "astrom",
   "language": "python",
   "name": "astrom"
  },
  "language_info": {
   "codemirror_mode": {
    "name": "ipython",
    "version": 3
   },
   "file_extension": ".py",
   "mimetype": "text/x-python",
   "name": "python",
   "nbconvert_exporter": "python",
   "pygments_lexer": "ipython3",
   "version": "3.7.8"
  }
 },
 "nbformat": 4,
 "nbformat_minor": 4
}
